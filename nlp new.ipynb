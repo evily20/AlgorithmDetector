{
 "cells": [
  {
   "cell_type": "code",
   "execution_count": null,
   "metadata": {
    "collapsed": true
   },
   "outputs": [],
   "source": [
    "import pandas as pd \n",
    "from flask import Flask, render_template, redirect\n",
    "from flask import jsonify, request\n",
    "from flask import Flask, render_template, flash, request, url_for\n",
    "#from pymongo import MongoClient\n",
    "import datetime\n",
    "import requests"
   ]
  },
  {
   "cell_type": "code",
   "execution_count": 2,
   "metadata": {
    "collapsed": true
   },
   "outputs": [],
   "source": [
    "import csv"
   ]
  },
  {
   "cell_type": "code",
   "execution_count": 3,
   "metadata": {
    "collapsed": true
   },
   "outputs": [],
   "source": [
    "df=pd.read_csv('bs.csv')"
   ]
  },
  {
   "cell_type": "code",
   "execution_count": 4,
   "metadata": {},
   "outputs": [
    {
     "data": {
      "text/html": [
       "<div>\n",
       "<style>\n",
       "    .dataframe thead tr:only-child th {\n",
       "        text-align: right;\n",
       "    }\n",
       "\n",
       "    .dataframe thead th {\n",
       "        text-align: left;\n",
       "    }\n",
       "\n",
       "    .dataframe tbody tr th {\n",
       "        vertical-align: top;\n",
       "    }\n",
       "</style>\n",
       "<table border=\"1\" class=\"dataframe\">\n",
       "  <thead>\n",
       "    <tr style=\"text-align: right;\">\n",
       "      <th></th>\n",
       "      <th>code</th>\n",
       "      <th>tag</th>\n",
       "    </tr>\n",
       "  </thead>\n",
       "  <tbody>\n",
       "    <tr>\n",
       "      <th>0</th>\n",
       "      <td>#include&lt;cstdio&gt;  #include&lt;algorithm&gt;  using n...</td>\n",
       "      <td>yes</td>\n",
       "    </tr>\n",
       "    <tr>\n",
       "      <th>1</th>\n",
       "      <td>#include&lt;cstdio&gt;  #include&lt;algorithm&gt;  using n...</td>\n",
       "      <td>yes</td>\n",
       "    </tr>\n",
       "    <tr>\n",
       "      <th>2</th>\n",
       "      <td>#include&lt;bits/stdc++.h&gt; using namespace std; c...</td>\n",
       "      <td>yes</td>\n",
       "    </tr>\n",
       "    <tr>\n",
       "      <th>3</th>\n",
       "      <td>#include&lt;cstdio&gt; #include&lt;algorithm&gt; using nam...</td>\n",
       "      <td>yes</td>\n",
       "    </tr>\n",
       "    <tr>\n",
       "      <th>4</th>\n",
       "      <td>?</td>\n",
       "      <td>yes</td>\n",
       "    </tr>\n",
       "    <tr>\n",
       "      <th>5</th>\n",
       "      <td>#include&lt;bits/stdc++.h&gt; using namespace std;  ...</td>\n",
       "      <td>yes</td>\n",
       "    </tr>\n",
       "    <tr>\n",
       "      <th>6</th>\n",
       "      <td>#include&lt;bits/stdc++.h&gt;  using namespace std; ...</td>\n",
       "      <td>yes</td>\n",
       "    </tr>\n",
       "    <tr>\n",
       "      <th>7</th>\n",
       "      <td>#include &lt;stdio.h&gt; #include &lt;cmath&gt; #include &lt;...</td>\n",
       "      <td>yes</td>\n",
       "    </tr>\n",
       "    <tr>\n",
       "      <th>8</th>\n",
       "      <td>#include &lt;iostream&gt;  #include&lt;algorithm&gt;  usin...</td>\n",
       "      <td>yes</td>\n",
       "    </tr>\n",
       "    <tr>\n",
       "      <th>9</th>\n",
       "      <td>#include&lt;bits/stdc++.h&gt;  using namespace std; ...</td>\n",
       "      <td>yes</td>\n",
       "    </tr>\n",
       "    <tr>\n",
       "      <th>10</th>\n",
       "      <td>?</td>\n",
       "      <td>yes</td>\n",
       "    </tr>\n",
       "    <tr>\n",
       "      <th>11</th>\n",
       "      <td>#include &lt;cstdio&gt;  #include &lt;algorithm&gt;  using...</td>\n",
       "      <td>yes</td>\n",
       "    </tr>\n",
       "    <tr>\n",
       "      <th>12</th>\n",
       "      <td>#include&lt;stdio.h&gt;  #include&lt;string.h&gt;  #includ...</td>\n",
       "      <td>yes</td>\n",
       "    </tr>\n",
       "    <tr>\n",
       "      <th>13</th>\n",
       "      <td>#include&lt;stdlib.h&gt;  #include&lt;stdio.h&gt;  #includ...</td>\n",
       "      <td>yes</td>\n",
       "    </tr>\n",
       "    <tr>\n",
       "      <th>14</th>\n",
       "      <td>#include &lt;bits/stdc++.h&gt;    using namespace st...</td>\n",
       "      <td>yes</td>\n",
       "    </tr>\n",
       "    <tr>\n",
       "      <th>15</th>\n",
       "      <td>#include&lt;cstdio&gt;  #include&lt;algorithm&gt;  using n...</td>\n",
       "      <td>yes</td>\n",
       "    </tr>\n",
       "    <tr>\n",
       "      <th>16</th>\n",
       "      <td>#include&lt;bits/stdc++.h&gt;  using namespace std; ...</td>\n",
       "      <td>yes</td>\n",
       "    </tr>\n",
       "  </tbody>\n",
       "</table>\n",
       "</div>"
      ],
      "text/plain": [
       "                                                 code  tag\n",
       "0   #include<cstdio>  #include<algorithm>  using n...  yes\n",
       "1   #include<cstdio>  #include<algorithm>  using n...  yes\n",
       "2   #include<bits/stdc++.h> using namespace std; c...  yes\n",
       "3   #include<cstdio> #include<algorithm> using nam...  yes\n",
       "4                                                   ?  yes\n",
       "5   #include<bits/stdc++.h> using namespace std;  ...  yes\n",
       "6   #include<bits/stdc++.h>  using namespace std; ...  yes\n",
       "7   #include <stdio.h> #include <cmath> #include <...  yes\n",
       "8   #include <iostream>  #include<algorithm>  usin...  yes\n",
       "9   #include<bits/stdc++.h>  using namespace std; ...  yes\n",
       "10                                                  ?  yes\n",
       "11  #include <cstdio>  #include <algorithm>  using...  yes\n",
       "12  #include<stdio.h>  #include<string.h>  #includ...  yes\n",
       "13  #include<stdlib.h>  #include<stdio.h>  #includ...  yes\n",
       "14  #include <bits/stdc++.h>    using namespace st...  yes\n",
       "15  #include<cstdio>  #include<algorithm>  using n...  yes\n",
       "16  #include<bits/stdc++.h>  using namespace std; ...  yes"
      ]
     },
     "execution_count": 4,
     "metadata": {},
     "output_type": "execute_result"
    }
   ],
   "source": [
    "df.head(17)"
   ]
  },
  {
   "cell_type": "code",
   "execution_count": 5,
   "metadata": {},
   "outputs": [
    {
     "name": "stdout",
     "output_type": "stream",
     "text": [
      "u\n"
     ]
    }
   ],
   "source": [
    "import re\n",
    "corpus=[]\n",
    "for i in range(0,87):\n",
    "    x=df['code'][i]\n",
    "    #print(x)\n",
    "    x=str(x)\n",
    "    #x=re.sub('[^a-zA-Z]', ' ',df['Code'][i])\n",
    "    x=x.lower()\n",
    "    x=x.split()\n",
    "    \n",
    "    x=' '.join(x)\n",
    "    corpus.append(x)\n",
    "print(corpus[0][5])"
   ]
  },
  {
   "cell_type": "code",
   "execution_count": 6,
   "metadata": {},
   "outputs": [
    {
     "name": "stdout",
     "output_type": "stream",
     "text": [
      "87\n"
     ]
    }
   ],
   "source": [
    "from sklearn.feature_extraction.text import CountVectorizer\n",
    "cv=CountVectorizer()\n",
    "X=cv.fit_transform(corpus).toarray()\n",
    "#print(X)\n",
    "#y=df['Tt']\n",
    "print(len(X))\n",
    "\n"
   ]
  },
  {
   "cell_type": "code",
   "execution_count": 7,
   "metadata": {},
   "outputs": [
    {
     "name": "stdout",
     "output_type": "stream",
     "text": [
      "[0 0 0 0 0 0 0 0 0 1 0 0 0 0 0 0 0 0 0 0 0 0 0 0 0 0 0 0 0 0 0 0 0 0 6 0 0\n",
      " 0 0 0 0 0 0 0 0 1 0 0 0 0 0 0 0 0 0 0 0 0 0 0 0 0 0 0 0 0 0 0 0 2 0 0 0 0\n",
      " 0 0 0 0 4 0 0 0 0 0 0 0 7 0 1 0 0 0 8 0 0 0 0 0 0 0 0 0 0 0 0 0 0 0 0 1 0\n",
      " 0 0 0 0 0 0 0 0 0 0 0 0 0 0 1 0 1 1 0 0 5 0 0 0 0 0 0 0 0 2 0 0 0 0 0 0 0\n",
      " 0 0 0 2 0 0 0 0 0 0 0 0 0 1 1 0 0 0 0 0 0 0 0 0 1 0 0 0 0 0 0 2 2 1 2 2 0]\n"
     ]
    }
   ],
   "source": [
    "from sklearn.model_selection import train_test_split\n",
    "XTrain,XTest,YTrain,YTest=train_test_split(X,df['tag'],test_size=0.2,random_state=1)\n",
    "print(XTrain[0])"
   ]
  },
  {
   "cell_type": "code",
   "execution_count": 8,
   "metadata": {
    "collapsed": true
   },
   "outputs": [],
   "source": [
    "from sklearn.naive_bayes import GaussianNB"
   ]
  },
  {
   "cell_type": "code",
   "execution_count": 9,
   "metadata": {
    "collapsed": true
   },
   "outputs": [],
   "source": [
    "classifier=GaussianNB()\n",
    "model=classifier.fit(XTrain,YTrain)\n",
    "import pickle\n",
    "list_pickle = open(\"nlp_pickle.pickle\", 'wb')\n",
    "pickle.dump(model, list_pickle)\n",
    "list_pickle.close()\n",
    "#filename = 'nlp_pickle.sav'\n",
    "#pickle.dump(model, open(filename, 'wb'))\n"
   ]
  },
  {
   "cell_type": "code",
   "execution_count": 10,
   "metadata": {},
   "outputs": [
    {
     "name": "stdout",
     "output_type": "stream",
     "text": [
      "<class 'numpy.ndarray'>\n",
      "             precision    recall  f1-score   support\n",
      "\n",
      "         no       1.00      1.00      1.00         9\n",
      "        yes       1.00      1.00      1.00         9\n",
      "\n",
      "avg / total       1.00      1.00      1.00        18\n",
      "\n",
      "[[0 0 0 ..., 0 0 0]\n",
      " [0 0 0 ..., 0 0 0]\n",
      " [0 0 0 ..., 0 0 0]\n",
      " ..., \n",
      " [0 0 0 ..., 0 0 0]\n",
      " [0 0 0 ..., 0 0 0]\n",
      " [0 0 0 ..., 0 0 0]]\n",
      "['yes' 'yes' 'yes' 'yes' 'yes' 'no' 'no' 'no' 'no' 'no' 'no' 'no' 'yes'\n",
      " 'no' 'no' 'yes' 'yes' 'yes']\n",
      "38    yes\n",
      "44    yes\n",
      "27    yes\n",
      "40    yes\n",
      "36    yes\n",
      "82     no\n",
      "58     no\n",
      "69     no\n",
      "86     no\n",
      "56     no\n",
      "67     no\n",
      "53     no\n",
      "48    yes\n",
      "66     no\n",
      "63     no\n",
      "10    yes\n",
      "2     yes\n",
      "35    yes\n",
      "Name: tag, dtype: object\n"
     ]
    }
   ],
   "source": [
    "from sklearn.metrics import classification_report, confusion_matrix\n",
    "pred=classifier.predict(XTest)\n",
    "\n",
    "\n",
    "print(type(XTest))\n",
    "\n",
    "print(classification_report(pred,YTest))\n",
    "print(XTest)\n",
    "print(pred)\n",
    "print(YTest)\n",
    "rr=df['code'][53]"
   ]
  },
  {
   "cell_type": "code",
   "execution_count": 11,
   "metadata": {
    "collapsed": true
   },
   "outputs": [],
   "source": [
    "x = \"while(l<r){mid=(l+r)/2; if(mid==k) break; else if(k>mid) r=mid-1; else l=mid+1; }\"\n"
   ]
  },
  {
   "cell_type": "code",
   "execution_count": 12,
   "metadata": {
    "collapsed": true
   },
   "outputs": [],
   "source": [
    "pr = []\n",
    "pr.append(x)\n"
   ]
  },
  {
   "cell_type": "code",
   "execution_count": null,
   "metadata": {
    "collapsed": true
   },
   "outputs": [],
   "source": []
  },
  {
   "cell_type": "code",
   "execution_count": 13,
   "metadata": {},
   "outputs": [
    {
     "name": "stdout",
     "output_type": "stream",
     "text": [
      "<class 'str'>\n",
      "<class 'list'>\n",
      "['while l r mid l r if mid k break else if k mid r mid else l mid']\n",
      "<class 'numpy.ndarray'>\n",
      "yes\n"
     ]
    }
   ],
   "source": [
    "Y=[]\n",
    "corpus=[]\n",
    "tst=\"while(l<r){mid=(l+r)/2; if(mid==k) break; else if(k>mid) r=mid-1; else l=mid+1; }\"\n",
    "print(type(tst))\n",
    "x=re.sub('[^a-zA-Z]', ' ',tst)\n",
    "x=x.lower()\n",
    "x=x.split()\n",
    "\n",
    "x=' '.join(x)\n",
    "corpus.append(x)\n",
    "print(type(corpus))\n",
    "print(corpus)\n",
    "X=cv.transform(corpus).toarray()\n",
    "print(type(X))\n",
    "predict=classifier.predict(X)\n",
    "print(predict[0])\n"
   ]
  },
  {
   "cell_type": "code",
   "execution_count": 14,
   "metadata": {},
   "outputs": [
    {
     "name": "stdout",
     "output_type": "stream",
     "text": [
      "[[ 0  0  1  0  0  0  0  0  0  0  0  1  0  0  0  0  0  0  0  0  0  0  0  0\n",
      "   0  0  0  0  0  0  0  0  0  0  5  0  0  0  0  0  0  0  0  0  0  1  0  0\n",
      "   0  0  0  0  0  0  0  0  0  0  0  1  0  0  0  0  1  0  0  0  0  0  0  0\n",
      "   0  0  0  0  0  0  3  0  0  0  0  0  0  0  3  0  1  0  0  0  5  0  0  0\n",
      "   0  0  0  0  0  0  0  0  0  0  0  0  0  1  0  0  0  2  0  0  0  0  1  0\n",
      "   0  0  0  0  0  0  0  1  1  0  0  0  0  0  0  0  0  0  0  0  1  0  0  1\n",
      "   0  0  0  0  0  2  0  2  0  0  0  0  0  0  0  0  0  1  1  0  0  0  0  0\n",
      "   0  0  0  0  1  0 14  0  0  0  0  0  0  1  0  0  0]]\n",
      "no\n"
     ]
    }
   ],
   "source": [
    "Y=[]\n",
    "corpus=[]\n",
    "tst=\"#include<bits/stdc++.h>  #define maxn 200010  using namespace std;    int val[maxn] n y;  int main(){   scanf('%d' &n);   for(int i=1;i<=n;i++)    scanf('%d' &val[i]);   for(int i=2;i<=n;i++){    if(abs(val[i-1]-val[i])==1)     continue;    y=abs(val[i-1]-val[i]);   }   if(!y)    y=1;   for(int i=2;i<=n;i++){    if((abs(val[i-1]-val[i])!=1&&y!=abs(val[i-1]-val[i]))||(y!=1&&abs(val[i-1]-val[i])==1&&min(val[i-1] val[i])%y==0)){     puts('NO');     return 0;    }   }   printf('YES\\n1000000000 %d\\n' y);   return 0;  }  \"\n",
    "#x=re.sub('[\"]', ' ',tst)\n",
    "x=tst.lower()\n",
    "x=x.split()\n",
    "\n",
    "x=' '.join(x)\n",
    "corpus.append(x)\n",
    "X=cv.transform(corpus).toarray()\n",
    "print(X);\n",
    "predict=classifier.predict(X)\n",
    "print(predict[0])"
   ]
  },
  {
   "cell_type": "code",
   "execution_count": 15,
   "metadata": {},
   "outputs": [
    {
     "name": "stdout",
     "output_type": "stream",
     "text": [
      "yes\n"
     ]
    }
   ],
   "source": [
    "Y=[]\n",
    "corpus=[]\n",
    "tst=\"a+b\"\n",
    "\n",
    "x=tst.lower()\n",
    "x=x.split()\n",
    "\n",
    "x=' '.join(x)\n",
    "corpus.append(x)\n",
    "X=cv.transform(corpus).toarray()\n",
    "predict=classifier.predict(X)\n",
    "print(predict[0])"
   ]
  },
  {
   "cell_type": "code",
   "execution_count": 16,
   "metadata": {},
   "outputs": [
    {
     "name": "stdout",
     "output_type": "stream",
     "text": [
      "yes\n"
     ]
    }
   ],
   "source": [
    "Y=[]\n",
    "corpus=[]\n",
    "tst=\"a+b\"\n",
    "\n",
    "x=tst.lower()\n",
    "x=x.split()\n",
    "\n",
    "x=' '.join(x)\n",
    "corpus.append(x)\n",
    "X=cv.transform(corpus).toarray()\n",
    "\n",
    "predict=classifier.predict(X)\n",
    "print(predict[0])"
   ]
  },
  {
   "cell_type": "code",
   "execution_count": 17,
   "metadata": {},
   "outputs": [
    {
     "name": "stdout",
     "output_type": "stream",
     "text": [
      "no\n"
     ]
    }
   ],
   "source": [
    "Y=[]\n",
    "corpus=[]\n",
    "tst=\"\"\" #include<bits/stdc++.h> using namespace std; int main() { int x=a+b/2; }  \"\"\"\n",
    "\n",
    "x=tst.lower()\n",
    "x=x.split()\n",
    "\n",
    "x=' '.join(x)\n",
    "corpus.append(x)\n",
    "X=cv.transform(corpus).toarray()\n",
    "predict=classifier.predict(X)\n",
    "print(predict[0])"
   ]
  },
  {
   "cell_type": "code",
   "execution_count": 18,
   "metadata": {},
   "outputs": [
    {
     "name": "stdout",
     "output_type": "stream",
     "text": [
      "no\n"
     ]
    }
   ],
   "source": [
    "Y=[]\n",
    "corpus=[]\n",
    "tst=\"\"\"   #include<bits/stdc++.h> using namespace std; int main() { int a; for(i=0 i<5 i++) if(a[i]==k) cout<<\"Yes\"; break; }\"\"\"\n",
    "\n",
    "x=tst.lower()\n",
    "x=x.split()\n",
    "\n",
    "x=' '.join(x)\n",
    "corpus.append(x)\n",
    "X=cv.transform(corpus).toarray()\n",
    "predict=classifier.predict(X)\n",
    "print(predict[0])"
   ]
  },
  {
   "cell_type": "code",
   "execution_count": 19,
   "metadata": {},
   "outputs": [
    {
     "name": "stdout",
     "output_type": "stream",
     "text": [
      "yes\n"
     ]
    }
   ],
   "source": [
    "Y=[]\n",
    "corpus=[]\n",
    "tst=\"\"\"   #include<bits/stdc++.h> using namespace std; int main() { vector <int> v; it=v.lower_bound(k); }\"\"\"\n",
    "\n",
    "x=tst.lower()\n",
    "x=x.split()\n",
    "\n",
    "x=' '.join(x)\n",
    "corpus.append(x)\n",
    "X=cv.transform(corpus).toarray()\n",
    "predict=classifier.predict(X)\n",
    "print(predict[0])"
   ]
  },
  {
   "cell_type": "code",
   "execution_count": 20,
   "metadata": {},
   "outputs": [
    {
     "name": "stdout",
     "output_type": "stream",
     "text": [
      "yes\n"
     ]
    }
   ],
   "source": [
    "Y=[]\n",
    "corpus=[]\n",
    "tst=\"\"\"   #include<bits/stdc++.h> using namespace std; int search(int key int low int high) {mid=(low + high)/2; if(a[mid]==k) return 1;  else if(k>a[mid]) search(key low mid-1)  else search(key mid+1 high)  } int main() { vector <int> v; x=search(k,0,n); }\"\"\"\n",
    "\n",
    "x=tst.lower()\n",
    "x=x.split()\n",
    "\n",
    "x=' '.join(x)\n",
    "corpus.append(x)\n",
    "X=cv.transform(corpus).toarray()\n",
    "predict=classifier.predict(X)\n",
    "print(predict[0])"
   ]
  },
  {
   "cell_type": "code",
   "execution_count": 21,
   "metadata": {},
   "outputs": [
    {
     "name": "stdout",
     "output_type": "stream",
     "text": [
      "    #include<iostream> #include<stdio.h> using namespace std; int main() { int t; long long c d l maxl minl; cin>>t; while(t--) { cin>>c>>d>>l; if(l%4!=0) { cout<<\"no\"<<endl; } else { if(c>=(2*d)) { minl=((c-(2*d))+d)*4; maxl=(c+d)*4; if(l>=minl && l<=maxl) { cout<<\"yes\"<<endl; } else { cout<<\"no\"<<endl; } } else { minl=d*4; maxl=(d+c)*4; if(l>=minl && l<=maxl) { cout<<\"yes\"<<endl; } else { cout<<\"no\"<<endl; } }         } } return 0; }           \n",
      "no\n"
     ]
    }
   ],
   "source": [
    "Y=[]\n",
    "corpus=[]\n",
    "tst=\"\"\"    #include<iostream>\n",
    "#include<stdio.h>\n",
    "using namespace std;\n",
    "int main()\n",
    "{\n",
    "int t;\n",
    "long long c,d,l,maxl,minl;\n",
    "cin>>t;\n",
    "while(t--)\n",
    "{\n",
    "cin>>c>>d>>l;\n",
    "if(l%4!=0)\n",
    "{\n",
    "cout<<\"no\"<<endl;\n",
    "}\n",
    "else\n",
    "{\n",
    "if(c>=(2*d))\n",
    "{\n",
    "minl=((c-(2*d))+d)*4;\n",
    "maxl=(c+d)*4;\n",
    "if(l>=minl && l<=maxl)\n",
    "{\n",
    "cout<<\"yes\"<<endl;\n",
    "}\n",
    "else\n",
    "{\n",
    "cout<<\"no\"<<endl;\n",
    "}\n",
    "}\n",
    "else\n",
    "{\n",
    "minl=d*4;\n",
    "maxl=(d+c)*4;\n",
    "if(l>=minl && l<=maxl)\n",
    "{\n",
    "cout<<\"yes\"<<endl;\n",
    "}\n",
    "else\n",
    "{\n",
    "cout<<\"no\"<<endl;\n",
    "}\n",
    "}\n",
    " \n",
    " \n",
    " \n",
    " \n",
    "}\n",
    "}\n",
    "return 0;\n",
    "}\n",
    " \n",
    "        \"\"\"\n",
    "    \n",
    "\n",
    "#tst=\"\"\"   #include<bits/stdc++.h> using namespace std; int search(int key int low int high) {mid=(low + high)/2; if(a[mid]==k) return 1;  else if(k>a[mid]) search(key low mid-1)  else search(key mid+1 high)  } int main() { vector <int> v; x=search(k,0,n); }\"\"\"\n",
    "df1 = pd.DataFrame({'A':[tst]})\n",
    "            #print(df)\n",
    "df1 = df1.replace('\\n',' ', regex=True)\n",
    "df1 = df1.replace('\\t',' ', regex=True)\n",
    "df1 = df1.replace('\\r',' ', regex=True)\n",
    "df1 = df1.replace(',',' ', regex=True)\n",
    "    \n",
    "\n",
    "    \n",
    "#print(df1['A']);\n",
    "tst=\"\"\n",
    "for i in df1['A']:\n",
    "    tst=tst+i\n",
    "print(tst)\n",
    "    \n",
    "x=tst.lower()\n",
    "x=x.split()\n",
    "\n",
    "x=' '.join(x)\n",
    "corpus.append(x)\n",
    "X=cv.transform(corpus).toarray()\n",
    "predict=classifier.predict(X)\n",
    "print(predict[0])"
   ]
  },
  {
   "cell_type": "code",
   "execution_count": 22,
   "metadata": {},
   "outputs": [
    {
     "name": "stdout",
     "output_type": "stream",
     "text": [
      "yes\n"
     ]
    }
   ],
   "source": [
    "Y=[]\n",
    "corpus=[]\n",
    "tst=\"\"\"  \n",
    "#include<bits/stdc++.h>\n",
    "using namespace std;\n",
    "int main()\n",
    "{\n",
    "cin>>n;\n",
    "l=0;\n",
    "r=n-1;\n",
    "while(l<=r)\n",
    "{\n",
    "int mid=(l+r)/2;\n",
    "if(a[mid]==k)\n",
    "cout<<\"Found\"<<endl;\n",
    "else if(a[mid]<k)\n",
    "r=mid-1;\n",
    "else if(a[mid]>k)\n",
    "l=mid+1;\n",
    "}\n",
    "}\n",
    "\n",
    "}\n",
    "\n",
    "\n",
    "\n",
    "\n",
    "\"\"\"\n",
    "\n",
    "x=tst.lower()\n",
    "x=x.split()\n",
    "\n",
    "x=' '.join(x)\n",
    "corpus.append(x)\n",
    "X=cv.transform(corpus).toarray()\n",
    "predict=classifier.predict(X)\n",
    "print(predict[0])"
   ]
  },
  {
   "cell_type": "code",
   "execution_count": 23,
   "metadata": {},
   "outputs": [
    {
     "name": "stdout",
     "output_type": "stream",
     "text": [
      "no\n"
     ]
    }
   ],
   "source": [
    "Y=[]\n",
    "corpus=[]\n",
    "tst=\"\"\"  \n",
    "\n",
    "#include <iostream>\n",
    "#include <cstdio>\n",
    "#include <algorithm>\n",
    "#include <cstring>\n",
    "using namespace std;\n",
    "const int maxn = 2e5+8;\n",
    "int n,a[maxn],dp1[maxn],len1[maxn],dp2[maxn],h1[maxn],h2[maxn],len2[maxn];\n",
    "int main(){\n",
    "    scanf(\"%d\",&n);\n",
    "    for(int i = 1;i <= n;++i)\n",
    "        scanf(\"%d\",&a[i]),a[i] -= i;\n",
    "    int mx = 1;\n",
    "    memset(dp1,0x3f,sizeof(dp1));\n",
    "    for(int i = 1;i <= n;++i){\n",
    "        int idx = lower_bound(dp1+1,dp1+1+n,a[i]) - dp1;\n",
    "        dp1[idx] = a[i];\n",
    "        mx = max(mx,idx);\n",
    "        len1[i] = mx;\n",
    "        h1[i] = dp1[mx];\n",
    "    }\n",
    "    memset(dp2,0x3f,sizeof(dp2));\n",
    "    mx = 1;\n",
    "    for(int i = n;i >= 1;--i){\n",
    "        int idx = lower_bound(dp2+1,dp2+1+n,-a[i]-1) - dp2;\n",
    "        dp2[idx] = -a[i]-1;\n",
    "        mx = max(mx,idx);\n",
    "        len2[i] = mx;\n",
    "        h2[i] = dp2[mx];\n",
    "    }\n",
    "    dp1[0] = 0;dp2[0] = -2;\n",
    "    int ans = max(len1[n],len2[1]);\n",
    "    for(int i = 1;i <= n;++i){\n",
    "        //printf(\"i:%d len1:%d len2:%d dp1:%d dp2:%d\\n\",i,len1[i-1],len2[i+1],h1[i-1],h2[i+1]);\n",
    "        if(h1[i-1] <= -h2[i+1]){\n",
    "            ans = max(ans,len1[i-1]+len2[i+1]);\n",
    "        }\n",
    "    }\n",
    "    cout<<max(0,n-1-ans)<<endl;\n",
    "    return 0;\n",
    "}\n",
    "\n",
    "\n",
    "\n",
    "\"\"\"\n",
    "\n",
    "x=tst.lower()\n",
    "x=x.split()\n",
    "\n",
    "x=' '.join(x)\n",
    "corpus.append(x)\n",
    "X=cv.transform(corpus).toarray()\n",
    "predict=classifier.predict(X)\n",
    "print(predict[0])"
   ]
  },
  {
   "cell_type": "code",
   "execution_count": 24,
   "metadata": {},
   "outputs": [
    {
     "name": "stdout",
     "output_type": "stream",
     "text": [
      "yes\n"
     ]
    }
   ],
   "source": [
    "Y=[]\n",
    "corpus=[]\n",
    "tst=\"\"\"  \n",
    "\n",
    "#include<bits/stdc++.h>\n",
    "using namespace std;\n",
    "int main()\n",
    "{\n",
    "int t,n,k,i,x;\n",
    "cin>>t;\n",
    "while(t--)\n",
    "{\n",
    "cin>>n>>k;\n",
    "x=0;\n",
    "for(i=0;i<n;i++)\n",
    "{\n",
    "cin>>a[i];\n",
    "if(a[i]%2==0)\n",
    "x=1;\n",
    "}\n",
    "\n",
    "\n",
    "\n",
    "}\n",
    "\n",
    "}\n",
    "\n",
    "\n",
    "\n",
    "\"\"\"\n",
    "\n",
    "x=tst.lower()\n",
    "x=x.split()\n",
    "\n",
    "x=' '.join(x)\n",
    "corpus.append(x)\n",
    "X=cv.transform(corpus).toarray()\n",
    "predict=classifier.predict(X)\n",
    "print(predict[0])"
   ]
  },
  {
   "cell_type": "code",
   "execution_count": null,
   "metadata": {
    "collapsed": true
   },
   "outputs": [],
   "source": [
    "from flask import Flask, render_template, redirect\n",
    "from flask import jsonify, request\n",
    "from flask import Flask, render_template, flash, request, url_for\n",
    "#from pymongo import MongoClient\n",
    "import datetime\n",
    "import requests"
   ]
  },
  {
   "cell_type": "code",
   "execution_count": null,
   "metadata": {},
   "outputs": [
    {
     "name": "stderr",
     "output_type": "stream",
     "text": [
      " * Running on http://127.0.0.1:5158/ (Press CTRL+C to quit)\n"
     ]
    }
   ],
   "source": [
    "app=Flask(__name__)\n",
    "@app.route('/NLP')\n",
    "def home():\n",
    "    return render_template(\"NLP.html\")\n",
    "\n",
    "\n",
    "\n",
    "@app.route('/nlp', methods=['POST'])\n",
    "def nlp():\n",
    "    code=request.form.get('Code')\n",
    "    x=code.lower()\n",
    "    x=x.split()\n",
    "    x=' '.join(x)\n",
    "    corpus.append(x)\n",
    "    X=cv.transform(corpus).toarray()\n",
    "    predict=classifier.predict(X)\n",
    "    print(predict[0])\n",
    "\n",
    "\n",
    "app.run(port=5158)\n",
    "    \n",
    "\n",
    "\n",
    "\n",
    "\n",
    "\n",
    "\n"
   ]
  },
  {
   "cell_type": "code",
   "execution_count": null,
   "metadata": {
    "collapsed": true
   },
   "outputs": [],
   "source": []
  }
 ],
 "metadata": {
  "kernelspec": {
   "display_name": "Python 3",
   "language": "python",
   "name": "python3"
  },
  "language_info": {
   "codemirror_mode": {
    "name": "ipython",
    "version": 3
   },
   "file_extension": ".py",
   "mimetype": "text/x-python",
   "name": "python",
   "nbconvert_exporter": "python",
   "pygments_lexer": "ipython3",
   "version": "3.6.2"
  }
 },
 "nbformat": 4,
 "nbformat_minor": 2
}
